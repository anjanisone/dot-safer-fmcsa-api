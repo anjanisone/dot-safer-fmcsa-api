{
 "cells": [
  {
   "cell_type": "code",
   "execution_count": 1,
   "metadata": {},
   "outputs": [],
   "source": [
    "import os\n",
    "\n",
    "\n",
    "for i in range(175810, 3000000):\n",
    "    os.system(f\"./dot.py --query '{i}' > files/{i}.txt\")\n",
    "    with open(f\"files/{i}.txt\") as file:\n",
    "        data = file.read()\n",
    "        if len(data) == 0:\n",
    "            os.system(f\"rm -rf files/{i}.txt\")\n",
    "        if \"an error occurred\" in data:\n",
    "            os.system(f\"rm -rf files/{i}.txt\")"
   ]
  },
  {
   "cell_type": "code",
   "execution_count": null,
   "metadata": {},
   "outputs": [],
   "source": []
  }
 ],
 "metadata": {
  "kernelspec": {
   "display_name": "Python 3.7.13 ('logistics')",
   "language": "python",
   "name": "python3"
  },
  "language_info": {
   "codemirror_mode": {
    "name": "ipython",
    "version": 3
   },
   "file_extension": ".py",
   "mimetype": "text/x-python",
   "name": "python",
   "nbconvert_exporter": "python",
   "pygments_lexer": "ipython3",
   "version": "3.7.13"
  },
  "orig_nbformat": 4,
  "vscode": {
   "interpreter": {
    "hash": "2c9b96305d1376819c51d68c79f5a8e513628024a553755dcec4b2f040074e9a"
   }
  }
 },
 "nbformat": 4,
 "nbformat_minor": 2
}
